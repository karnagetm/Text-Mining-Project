{
  "nbformat": 4,
  "nbformat_minor": 0,
  "metadata": {
    "colab": {
      "provenance": [],
      "collapsed_sections": [
        "El_vU9NocxVC"
      ],
      "include_colab_link": true
    },
    "kernelspec": {
      "display_name": "Python 3",
      "name": "python3"
    }
  },
  "cells": [
    {
      "cell_type": "markdown",
      "metadata": {
        "id": "view-in-github",
        "colab_type": "text"
      },
      "source": [
        "<a href=\"https://colab.research.google.com/github/karnagetm/Text-Mining-Project/blob/main/Karan_patel_Task.ipynb\" target=\"_parent\"><img src=\"https://colab.research.google.com/assets/colab-badge.svg\" alt=\"Open In Colab\"/></a>"
      ]
    },
    {
      "cell_type": "markdown",
      "source": [
        "**Prior study (Codes in Week 5 folder）**:\n",
        "\n",
        "Please use this page as companion to understand the newsgroup data set.\n",
        "[Data Set](https://scikit-learn.org/stable/tutorial/text_analytics/working_with_text_data.html)\n",
        "\n",
        "You will also need to be familiar with some text processing commands：\n",
        "\n",
        "[Tf-idf](https://scikit-learn.org/stable/modules/generated/sklearn.feature_extraction.text.TfidfTransformer.html)\n",
        "\n",
        "[countvectorizer](https://scikit-learn.org/stable/modules/generated/sklearn.feature_extraction.text.CountVectorizer.html)\n"
      ],
      "metadata": {
        "id": "1ZVVMai8xRFX"
      }
    },
    {
      "cell_type": "code",
      "metadata": {
        "id": "yhgYu18FM-_L"
      },
      "source": [
        "from IPython import get_ipython\n",
        "get_ipython().magic('reset -sf')"
      ],
      "execution_count": 1,
      "outputs": []
    },
    {
      "cell_type": "markdown",
      "metadata": {
        "id": "QXdrc29D71MH"
      },
      "source": [
        "# **Steps outline**\n",
        "1. Download your data set by inputting your student number.\n",
        "2. Process your text data, extract features, convert them into vectors\n",
        "3. Modeling, train models on the data set (select model, tune different parameters)\n",
        "4. Process your text data, extract features, convert them into vectors\n",
        "5. Analysis and discussions"
      ]
    },
    {
      "cell_type": "markdown",
      "metadata": {
        "id": "934uDa63sRnp"
      },
      "source": [
        "# Step 1: Load Dataset\n"
      ]
    },
    {
      "cell_type": "markdown",
      "source": [
        "Prior study (Codes in Week 5 folder）:\n",
        "\n",
        "Please use this page as companion to understand  [**Newsgroup data set**](https://scikit-learn.org/stable/tutorial/text_analytics/working_with_text_data.html)\n"
      ],
      "metadata": {
        "id": "2k-V81t0z_NF"
      }
    },
    {
      "cell_type": "code",
      "metadata": {
        "id": "cxDjTTcDrtVl"
      },
      "source": [
        "import numpy as np\n",
        "import tensorflow as tf\n",
        "from tensorflow import keras\n",
        "import pandas as pd\n",
        "import numpy as np\n",
        "categories = ['alt.atheism', 'soc.religion.christian', 'comp.graphics', 'sci.med']\n",
        "from sklearn.datasets import fetch_20newsgroups\n",
        "twenty_train = fetch_20newsgroups(subset='train',  categories=categories, shuffle=True, random_state=42)\n",
        "twenty_test = fetch_20newsgroups(subset='test',  categories=categories, shuffle=True, random_state=42)"
      ],
      "execution_count": 2,
      "outputs": []
    },
    {
      "cell_type": "markdown",
      "metadata": {
        "id": "O8VrHduYC-kd"
      },
      "source": [
        "**This is how to identify which data set to use (Please copy  the following information in report front   page).**"
      ]
    },
    {
      "cell_type": "code",
      "metadata": {
        "colab": {
          "base_uri": "https://localhost:8080/"
        },
        "id": "gvU6i2KNHzC4",
        "outputId": "993cb263-6116-4039-dd64-11f7f191288a"
      },
      "source": [
        "index=input('type your student number?')"
      ],
      "execution_count": 3,
      "outputs": [
        {
          "name": "stdout",
          "output_type": "stream",
          "text": [
            "type your student number?30021323\n"
          ]
        }
      ]
    },
    {
      "cell_type": "code",
      "source": [
        "x=divmod(int(index),4)\n",
        "yourdata1=x[1]\n",
        "y=divmod(int(index),3)\n",
        "yourdata2=y[1]\n",
        "\n",
        "print('This is your data set index ----> (', x[1], y[1], ')' )"
      ],
      "metadata": {
        "colab": {
          "base_uri": "https://localhost:8080/"
        },
        "id": "a8Gmf-HdGcWV",
        "outputId": "12448f36-757d-4644-8f4f-551fcc1fc79f"
      },
      "execution_count": 4,
      "outputs": [
        {
          "output_type": "stream",
          "name": "stdout",
          "text": [
            "This is your data set index ----> ( 3 2 )\n"
          ]
        }
      ]
    },
    {
      "cell_type": "code",
      "metadata": {
        "colab": {
          "base_uri": "https://localhost:8080/"
        },
        "id": "HXPpVRSGAPM7",
        "outputId": "b6b97a18-c627-4e48-da71-b537adbcd48f"
      },
      "source": [
        "data1= twenty_train.target_names[x[1]]\n",
        "data2= twenty_train.target_names[y[1]]\n",
        "categories1=[data1,data2]\n",
        "print(categories1)"
      ],
      "execution_count": 5,
      "outputs": [
        {
          "output_type": "stream",
          "name": "stdout",
          "text": [
            "['soc.religion.christian', 'sci.med']\n"
          ]
        }
      ]
    },
    {
      "cell_type": "markdown",
      "metadata": {
        "id": "aNjBtO7-DOsu"
      },
      "source": [
        "**Your front page data information Ends here**"
      ]
    },
    {
      "cell_type": "markdown",
      "metadata": {
        "id": "v1jAHpjtaSPu"
      },
      "source": [
        "# Step 2 Process your text data, extract features"
      ]
    },
    {
      "cell_type": "markdown",
      "metadata": {
        "id": "El_vU9NocxVC"
      },
      "source": [
        "# 2.1 An example of preprocessing"
      ]
    },
    {
      "cell_type": "markdown",
      "metadata": {
        "id": "eDHwDyKzNirS"
      },
      "source": [
        "**An example is provided.**"
      ]
    },
    {
      "cell_type": "markdown",
      "source": [
        "Please pay attention  comment #replace ..., which means you need to change example text to your data set.\n",
        "Use google search for usages of  \"nltk tokenizer ”, \"nltk stemmer\", \"nltk pos tag\" to help your report writing."
      ],
      "metadata": {
        "id": "utJ6ap1bacK3"
      }
    },
    {
      "cell_type": "code",
      "metadata": {
        "colab": {
          "base_uri": "https://localhost:8080/"
        },
        "id": "wC3yT07PJnKp",
        "outputId": "e5067cf6-f8ce-4ef9-d1dc-3ff043a367a9"
      },
      "source": [
        "# write your own NLP precessing examples with  preprocessing techniques.\n",
        "\n",
        "\n",
        "dataset=twenty_train.data[2]\n",
        "dataset=twenty_train.data[3]\n",
        "print(dataset)\n",
        "# please   replace 1 in bracket to other data sample and explore the code\n",
        "\n",
        "import nltk\n",
        "nltk.download('punkt')\n",
        "nltk.download('averaged_perceptron_tagger')\n",
        "nltk.download('wordnet')\n"
      ],
      "execution_count": null,
      "outputs": [
        {
          "output_type": "stream",
          "name": "stdout",
          "text": [
            "From: s0612596@let.rug.nl (M.M. Zwart)\n",
            "Subject: catholic church poland\n",
            "Organization: Faculteit der Letteren, Rijksuniversiteit Groningen, NL\n",
            "Lines: 10\n",
            "\n",
            "Hello,\n",
            "\n",
            "I'm writing a paper on the role of the catholic church in Poland after 1989. \n",
            "Can anyone tell me more about this, or fill me in on recent books/articles(\n",
            "in english, german or french). Most important for me is the role of the \n",
            "church concerning the abortion-law, religious education at schools,\n",
            "birth-control and the relation church-state(government). Thanx,\n",
            "\n",
            "                                                 Masja,\n",
            "\"M.M.Zwart\"<s0612596@let.rug.nl>\n",
            "\n"
          ]
        },
        {
          "output_type": "stream",
          "name": "stderr",
          "text": [
            "[nltk_data] Downloading package punkt to /root/nltk_data...\n",
            "[nltk_data]   Package punkt is already up-to-date!\n",
            "[nltk_data] Downloading package averaged_perceptron_tagger to\n",
            "[nltk_data]     /root/nltk_data...\n",
            "[nltk_data]   Package averaged_perceptron_tagger is already up-to-\n",
            "[nltk_data]       date!\n",
            "[nltk_data] Downloading package wordnet to /root/nltk_data...\n",
            "[nltk_data]   Package wordnet is already up-to-date!\n"
          ]
        },
        {
          "output_type": "execute_result",
          "data": {
            "text/plain": [
              "True"
            ]
          },
          "metadata": {},
          "execution_count": 74
        }
      ]
    },
    {
      "cell_type": "code",
      "metadata": {
        "colab": {
          "base_uri": "https://localhost:8080/"
        },
        "outputId": "37d592dc-8732-4e3b-bc6e-319be5206c6f",
        "id": "cRHBOWMnAAWA"
      },
      "source": [
        "\n",
        "# tokenize: search: nltk tokenize\n",
        "example = \"This is an example sentence.\"\n",
        "\n",
        "from nltk.tokenize import word_tokenize\n",
        "example_tokenize =word_tokenize(dataset)\n",
        "#example_tokenize= word_tokenize(dataset) # replace example in bracket to dataset.\n",
        "print(\"-------------------------tokenize:\")\n",
        "print(example_tokenize)"
      ],
      "execution_count": null,
      "outputs": [
        {
          "output_type": "stream",
          "name": "stdout",
          "text": [
            "-------------------------tokenize:\n",
            "['From', ':', 's0612596', '@', 'let.rug.nl', '(', 'M.M', '.', 'Zwart', ')', 'Subject', ':', 'catholic', 'church', 'poland', 'Organization', ':', 'Faculteit', 'der', 'Letteren', ',', 'Rijksuniversiteit', 'Groningen', ',', 'NL', 'Lines', ':', '10', 'Hello', ',', 'I', \"'m\", 'writing', 'a', 'paper', 'on', 'the', 'role', 'of', 'the', 'catholic', 'church', 'in', 'Poland', 'after', '1989', '.', 'Can', 'anyone', 'tell', 'me', 'more', 'about', 'this', ',', 'or', 'fill', 'me', 'in', 'on', 'recent', 'books/articles', '(', 'in', 'english', ',', 'german', 'or', 'french', ')', '.', 'Most', 'important', 'for', 'me', 'is', 'the', 'role', 'of', 'the', 'church', 'concerning', 'the', 'abortion-law', ',', 'religious', 'education', 'at', 'schools', ',', 'birth-control', 'and', 'the', 'relation', 'church-state', '(', 'government', ')', '.', 'Thanx', ',', 'Masja', ',', \"''\", 'M.M.Zwart', \"''\", '<', 's0612596', '@', 'let.rug.nl', '>']\n"
          ]
        }
      ]
    },
    {
      "cell_type": "code",
      "metadata": {
        "colab": {
          "base_uri": "https://localhost:8080/"
        },
        "outputId": "3baad0df-750a-4278-ef3f-ec1ceaf73d35",
        "id": "kAaaP86_Ahmo"
      },
      "source": [
        "# stemmer: search: nltk stemmer\n",
        "stemmer = nltk.stem.PorterStemmer()\n",
        "example_stem = stemmer.stem(example)  # replace .....\n",
        "print(\"-------------------------stem:\")\n",
        "print(example_stem)"
      ],
      "execution_count": null,
      "outputs": [
        {
          "output_type": "stream",
          "name": "stdout",
          "text": [
            "-------------------------stem:\n",
            "this is an example sentence.\n"
          ]
        }
      ]
    },
    {
      "cell_type": "code",
      "source": [
        "# pos_taging: search: nltk pos tagging example\n",
        "example_posTag=nltk.pos_tag(example_tokenize)\n",
        "print(\"-------------------------pos_taging:\")\n",
        "print(example_posTag)"
      ],
      "metadata": {
        "id": "iL4Vr-m0ApLu",
        "colab": {
          "base_uri": "https://localhost:8080/"
        },
        "outputId": "6696c660-db59-4474-9889-ba1ea402013c"
      },
      "execution_count": null,
      "outputs": [
        {
          "output_type": "stream",
          "name": "stdout",
          "text": [
            "-------------------------pos_taging:\n",
            "[('From', 'IN'), (':', ':'), ('s0612596', 'NN'), ('@', 'NN'), ('let.rug.nl', 'NN'), ('(', '('), ('M.M', 'NNP'), ('.', '.'), ('Zwart', 'NNP'), (')', ')'), ('Subject', 'NN'), (':', ':'), ('catholic', 'JJ'), ('church', 'NN'), ('poland', 'NN'), ('Organization', 'NNP'), (':', ':'), ('Faculteit', 'NNP'), ('der', 'NN'), ('Letteren', 'NNP'), (',', ','), ('Rijksuniversiteit', 'NNP'), ('Groningen', 'NNP'), (',', ','), ('NL', 'NNP'), ('Lines', 'NNPS'), (':', ':'), ('10', 'CD'), ('Hello', 'NNP'), (',', ','), ('I', 'PRP'), (\"'m\", 'VBP'), ('writing', 'VBG'), ('a', 'DT'), ('paper', 'NN'), ('on', 'IN'), ('the', 'DT'), ('role', 'NN'), ('of', 'IN'), ('the', 'DT'), ('catholic', 'JJ'), ('church', 'NN'), ('in', 'IN'), ('Poland', 'NNP'), ('after', 'IN'), ('1989', 'CD'), ('.', '.'), ('Can', 'MD'), ('anyone', 'NN'), ('tell', 'VB'), ('me', 'PRP'), ('more', 'JJR'), ('about', 'IN'), ('this', 'DT'), (',', ','), ('or', 'CC'), ('fill', 'VB'), ('me', 'PRP'), ('in', 'IN'), ('on', 'IN'), ('recent', 'JJ'), ('books/articles', 'NNS'), ('(', '('), ('in', 'IN'), ('english', 'NN'), (',', ','), ('german', 'JJ'), ('or', 'CC'), ('french', 'JJ'), (')', ')'), ('.', '.'), ('Most', 'RBS'), ('important', 'JJ'), ('for', 'IN'), ('me', 'PRP'), ('is', 'VBZ'), ('the', 'DT'), ('role', 'NN'), ('of', 'IN'), ('the', 'DT'), ('church', 'NN'), ('concerning', 'VBG'), ('the', 'DT'), ('abortion-law', 'NN'), (',', ','), ('religious', 'JJ'), ('education', 'NN'), ('at', 'IN'), ('schools', 'NNS'), (',', ','), ('birth-control', 'NN'), ('and', 'CC'), ('the', 'DT'), ('relation', 'NN'), ('church-state', 'NN'), ('(', '('), ('government', 'NN'), (')', ')'), ('.', '.'), ('Thanx', 'NNP'), (',', ','), ('Masja', 'NNP'), (',', ','), (\"''\", \"''\"), ('M.M.Zwart', 'NNP'), (\"''\", \"''\"), ('<', 'NN'), ('s0612596', 'VBD'), ('@', 'NNP'), ('let.rug.nl', 'NN'), ('>', 'NN')]\n"
          ]
        }
      ]
    },
    {
      "cell_type": "code",
      "metadata": {
        "colab": {
          "base_uri": "https://localhost:8080/"
        },
        "outputId": "39d37a96-ec22-4b15-ab62-b345830f615d",
        "id": "O-n6AAbc_-_5"
      },
      "source": [
        " # consituency parsing, chunking\n",
        "grammar = \"NP: {<DT>?<JJ>*<NN>}\"\n",
        "cp = nltk.RegexpParser(grammar)\n",
        "result = cp.parse(example_posTag)\n",
        "print(result)"
      ],
      "execution_count": null,
      "outputs": [
        {
          "output_type": "stream",
          "name": "stdout",
          "text": [
            "(S\n",
            "  From/IN\n",
            "  :/:\n",
            "  (NP s0612596/NN)\n",
            "  (NP @/NN)\n",
            "  (NP let.rug.nl/NN)\n",
            "  (/(\n",
            "  M.M/NNP\n",
            "  ./.\n",
            "  Zwart/NNP\n",
            "  )/)\n",
            "  (NP Subject/NN)\n",
            "  :/:\n",
            "  (NP catholic/JJ church/NN)\n",
            "  (NP poland/NN)\n",
            "  Organization/NNP\n",
            "  :/:\n",
            "  Faculteit/NNP\n",
            "  (NP der/NN)\n",
            "  Letteren/NNP\n",
            "  ,/,\n",
            "  Rijksuniversiteit/NNP\n",
            "  Groningen/NNP\n",
            "  ,/,\n",
            "  NL/NNP\n",
            "  Lines/NNPS\n",
            "  :/:\n",
            "  10/CD\n",
            "  Hello/NNP\n",
            "  ,/,\n",
            "  I/PRP\n",
            "  'm/VBP\n",
            "  writing/VBG\n",
            "  (NP a/DT paper/NN)\n",
            "  on/IN\n",
            "  (NP the/DT role/NN)\n",
            "  of/IN\n",
            "  (NP the/DT catholic/JJ church/NN)\n",
            "  in/IN\n",
            "  Poland/NNP\n",
            "  after/IN\n",
            "  1989/CD\n",
            "  ./.\n",
            "  Can/MD\n",
            "  (NP anyone/NN)\n",
            "  tell/VB\n",
            "  me/PRP\n",
            "  more/JJR\n",
            "  about/IN\n",
            "  this/DT\n",
            "  ,/,\n",
            "  or/CC\n",
            "  fill/VB\n",
            "  me/PRP\n",
            "  in/IN\n",
            "  on/IN\n",
            "  recent/JJ\n",
            "  books/articles/NNS\n",
            "  (/(\n",
            "  in/IN\n",
            "  (NP english/NN)\n",
            "  ,/,\n",
            "  german/JJ\n",
            "  or/CC\n",
            "  french/JJ\n",
            "  )/)\n",
            "  ./.\n",
            "  Most/RBS\n",
            "  important/JJ\n",
            "  for/IN\n",
            "  me/PRP\n",
            "  is/VBZ\n",
            "  (NP the/DT role/NN)\n",
            "  of/IN\n",
            "  (NP the/DT church/NN)\n",
            "  concerning/VBG\n",
            "  (NP the/DT abortion-law/NN)\n",
            "  ,/,\n",
            "  (NP religious/JJ education/NN)\n",
            "  at/IN\n",
            "  schools/NNS\n",
            "  ,/,\n",
            "  (NP birth-control/NN)\n",
            "  and/CC\n",
            "  (NP the/DT relation/NN)\n",
            "  (NP church-state/NN)\n",
            "  (/(\n",
            "  (NP government/NN)\n",
            "  )/)\n",
            "  ./.\n",
            "  Thanx/NNP\n",
            "  ,/,\n",
            "  Masja/NNP\n",
            "  ,/,\n",
            "  ''/''\n",
            "  M.M.Zwart/NNP\n",
            "  ''/''\n",
            "  (NP </NN)\n",
            "  s0612596/VBD\n",
            "  @/NNP\n",
            "  (NP let.rug.nl/NN)\n",
            "  (NP >/NN))\n"
          ]
        }
      ]
    },
    {
      "cell_type": "markdown",
      "metadata": {
        "id": "c7VpnVNpKuUt"
      },
      "source": [
        "#2.2 NLP Preprocesssing"
      ]
    },
    {
      "cell_type": "markdown",
      "metadata": {
        "id": "0hmXyhqwOaUQ"
      },
      "source": [
        "**Some preprocessing are provided for convenience. Please include why NLP preprocessing is in your report. Explain what techniques have been experimented in your report.**"
      ]
    },
    {
      "cell_type": "code",
      "metadata": {
        "colab": {
          "base_uri": "https://localhost:8080/"
        },
        "id": "B8u5y9adK3tc",
        "outputId": "bf00e40e-6d18-4b87-d302-64c3a7dd8db9"
      },
      "source": [
        "import nltk\n",
        "import re\n",
        "from sklearn.pipeline import Pipeline\n",
        "from sklearn.feature_extraction.text import CountVectorizer\n",
        "from sklearn.feature_extraction.text import TfidfTransformer\n",
        "from sklearn.linear_model import LogisticRegression\n",
        "from nltk.tokenize import sent_tokenize, word_tokenize\n",
        "nltk.download('stopwords')\n",
        "nltk.download('punkt')\n",
        "nltk.download('averaged_perceptron_tagger')\n",
        "from tqdm import tqdm\n",
        "from nltk.corpus import stopwords\n",
        "stopwordEn = stopwords.words('english')\n",
        "from nltk.corpus import wordnet\n",
        "nltk.download('wordnet')\n",
        "from nltk.stem.snowball import SnowballStemmer\n",
        "stemmer = SnowballStemmer(\"english\", ignore_stopwords=True)\n",
        "\n",
        "def lemmaWord(word):\n",
        "    lemma = wordnet.morphy(word)\n",
        "    if lemma is not None:\n",
        "        return lemma\n",
        "    else:\n",
        "        return word\n",
        "\n",
        "def stemWord(word):\n",
        "    stem = stemmer.stem(word)\n",
        "    if stem is not None:\n",
        "        return stem\n",
        "    else:\n",
        "        return word\n",
        "\n",
        "def processText(text,lemma=False, gram=1, rmStop=True): # default remove stop words\n",
        "    text = re.sub(r'(https|http)?:\\/\\/(\\w|\\.|\\/|\\?|\\=|\\&|\\%)*\\b|@\\w+|#', '', text, flags=re.MULTILINE) #delete URL, #hashtag# , and @xxx\n",
        "    tokens = word_tokenize(text)\n",
        "    whitelist = [\"n't\", \"not\", \"no\"]\n",
        "    new_tokens = []\n",
        "    stoplist = stopwordEn if rmStop else []\n",
        "    for i in tokens:\n",
        "      i = i.lower()\n",
        "      if i.isalpha() and (i not in stoplist or i in whitelist):  #i not in ['.',',',';']  and (...)\n",
        "        if lemma: i = lemmaWord(i)\n",
        "        new_tokens.append(i)\n",
        "    del tokens\n",
        "    # tokens = [lemmaWord(i.lower()) if lemma else i.lower() for i in tokens if (i.lower() not in stoplist or i.lower() in whitelist) and i.isalpha()]\n",
        "    if gram<=1:\n",
        "        return new_tokens\n",
        "    else:\n",
        "        return [' '.join(ngram) for ngram in nltk.ngrams(new_tokens, gram)] # altered for N-grams\n",
        "        #return [' '.join(i) for i in nltk.ngrams(new_tokens, gram)]\n",
        "\n"
      ],
      "execution_count": 6,
      "outputs": [
        {
          "output_type": "stream",
          "name": "stderr",
          "text": [
            "[nltk_data] Downloading package stopwords to /root/nltk_data...\n",
            "[nltk_data]   Unzipping corpora/stopwords.zip.\n",
            "[nltk_data] Downloading package punkt to /root/nltk_data...\n",
            "[nltk_data]   Unzipping tokenizers/punkt.zip.\n",
            "[nltk_data] Downloading package averaged_perceptron_tagger to\n",
            "[nltk_data]     /root/nltk_data...\n",
            "[nltk_data]   Unzipping taggers/averaged_perceptron_tagger.zip.\n",
            "[nltk_data] Downloading package wordnet to /root/nltk_data...\n"
          ]
        }
      ]
    },
    {
      "cell_type": "code",
      "metadata": {
        "id": "YKFoZaWSVrnq"
      },
      "source": [
        "def getTags(text):\n",
        "  token = word_tokenize(text)\n",
        "  token = [l.lower() for l in token]\n",
        "  train_tags = nltk.pos_tag(token)\n",
        "  return [i[1] for i in train_tags]\n"
      ],
      "execution_count": 7,
      "outputs": []
    },
    {
      "cell_type": "code",
      "metadata": {
        "colab": {
          "base_uri": "https://localhost:8080/"
        },
        "id": "U8mwYOcFcS02",
        "outputId": "42817fd0-3369-4305-8c0c-681fe920afc2"
      },
      "source": [
        "from sklearn.datasets import fetch_20newsgroups\n",
        "\n",
        "# Select the categories you want to load\n",
        "categories = ['soc.religion.christian', 'sci.med']\n",
        "\n",
        "# Fetch the training data for these categories\n",
        "twenty_train = fetch_20newsgroups(subset='train', categories=categories, shuffle=True, random_state=42)\n",
        "\n",
        "# Here, twenty_train.data is your actual dataset, a list of text documents\n",
        "dataset = twenty_train.data  # This is a list of strings\n",
        "\n",
        "# Now you can process the first document as an example\n",
        "print(processText(dataset[3]))\n",
        "print(processText(dataset[2]))"
      ],
      "execution_count": 8,
      "outputs": [
        {
          "output_type": "stream",
          "name": "stdout",
          "text": [
            "['carter', 'page', 'subject', 'accepting', 'jeesus', 'heart', 'organization', 'university', 'pennsylvania', 'lines', 'article', 'eric', 'molas', 'writes', 'firstly', 'atheist', 'atheist', 'drivel', 'deleted', 'untitled', 'seed', 'miraculous', 'thing', 'sit', 'shelf', 'forever', 'knows', 'stuck', 'ground', 'makes', 'clever', 'draws', 'nutrients', 'soil', 'roots', 'gathers', 'force', 'sun', 'puts', 'forth', 'whole', 'lot', 'blossoms', 'fruit', 'recedes', 'done', 'programmed', 'seed', 'know', 'put', 'sun', 'sky', 'put', 'food', 'dirt', 'roots', 'told', 'bees', 'come', 'makes', 'water', 'fall', 'refresh', 'make', 'everything', 'pure', 'perhaps', 'product', 'love', 'perhaps', 'happened', 'chance', 'yeah', 'sure', 'hart', 'cartoonist', 'carter', 'page', 'happiness', 'crown', 'chiefest', 'part', 'wisdom', 'carpenter', 'apprentice', 'hold', 'god', 'awe', 'law', 'seeing', 'stricken', 'heart', 'pride', 'brought', 'learn', 'old', 'sophocles']\n",
            "['marida', 'ignacio', 'subject', 'every', 'lent', 'suffers', 'save', 'us', 'organization', 'lines', 'story', 'related', 'one', 'seven', 'apparitions', 'approved', 'church', 'worthy', 'belief', 'happened', 'la', 'salle', 'france', 'moral', 'lesson', 'story', 'lamb', 'god', 'sacrificed', 'blood', 'used', 'cleanse', 'us', 'sins', 'every', 'moment', 'god', 'perceives', 'worthy', 'done', 'heaven', 'mary', 'weeps', 'lamb', 'rest', 'offsprings', 'continue', 'disobey', 'god', 'sin', 'mary', 'messenger', 'given', 'task', 'make', 'us', 'evil', 'serpent', 'communism', 'wars', 'famine', 'unfaithful', 'disobedience', 'god', 'etc', 'running', 'rest', 'offsprings', 'children', 'went', 'astray', 'disobedience', 'led', 'dragon', 'brought', 'back', 'peace', 'loving', 'messages', 'reparations', 'sins', 'obey', 'god', 'commandments', 'worthy', 'presence', 'lamb', 'conceived', 'without', 'sin', 'worthy', 'bearing', 'son', 'god', 'womb', 'mary', 'preparing', 'us', 'church', 'body', 'christ', 'second', 'coming', 'making', 'sure', 'protected', 'dragon', 'also', 'preparing', 'new', 'eden', 'reversing', 'deed', 'ancient', 'eve', 'new', 'eden', 'sanctuary', 'righteous', 'judged', 'christ', 'next', 'coming', 'relate', 'story', 'believe', 'mary', 'one', 'apparitions', 'century', 'appeared', 'two', 'children', 'tends', 'goats', 'cows', 'forgot', 'exact', 'place', 'weeping', 'telling', 'children', 'afraid', 'going', 'lose', 'son', 'arm', 'mourning', 'townfolks', 'fault', 'would', 'drought', 'harvest', 'not', 'much', 'good', 'food', 'year', 'last', 'year', 'mary', 'tells', 'children', 'townfolks', 'place', 'worked', 'whole', 'week', 'even', 'sundays', 'church', 'honoring', 'god', 'townfolks', 'swears', 'uses', 'son', 'name', 'bad', 'words', 'son', 'arm', 'heavy', 'pain', 'asked', 'pray', 'children', 'said', 'hardly', 'asked', 'pray', 'every', 'morning', 'night', 'children', 'went', 'back', 'work', 'tell', 'somebody', 'news', 'spred', 'thorough', 'investigation', 'incident', 'townfolks', 'converted', 'faith', 'obedience', 'god', 'restored', 'community', 'lamb', 'succeeds', 'spreading', 'god', 'words', 'actions', 'teresa']\n"
          ]
        }
      ]
    },
    {
      "cell_type": "code",
      "source": [
        "processed_text_bigrams = processText(dataset[3], lemma=False, gram=2, rmStop=True)  # for the third document\n",
        "processed_text_bigrams = processText(dataset[2], lemma=False, gram=2, rmStop=True)  # for the second document\n",
        "#process the third and second documents,individually and obtain bigrams from each doc\n",
        "\n",
        "\n",
        "\n",
        "# The above assumes that your processText function is designed to work with CountVectorizer\n",
        "# and returns a list of tokens.\n",
        "\n"
      ],
      "metadata": {
        "id": "dEnx3XJXC2YF"
      },
      "execution_count": 9,
      "outputs": []
    },
    {
      "cell_type": "code",
      "source": [
        "processed_texts = [processText(text) for text in dataset]\n",
        "#allows the code below to work\n"
      ],
      "metadata": {
        "id": "m7y372t0D59g"
      },
      "execution_count": 10,
      "outputs": []
    },
    {
      "cell_type": "code",
      "metadata": {
        "id": "-ZRqySa8cbr1",
        "colab": {
          "base_uri": "https://localhost:8080/"
        },
        "outputId": "e4f33fc9-1d08-4df8-ff39-26a32d0b2e96"
      },
      "source": [
        "tagged_texts = [getTags(' '.join(text)) for text in processed_texts]\n",
        "\n",
        "# Process the first document and get its POS tags\n",
        "processed_text = processText(dataset[3])\n",
        "processed_text = processText(dataset[2])\n",
        "tagged_text = getTags(' '.join(processed_text))\n",
        "print(tagged_text)\n",
        "\n"
      ],
      "execution_count": 11,
      "outputs": [
        {
          "output_type": "stream",
          "name": "stdout",
          "text": [
            "['NN', 'NN', 'JJ', 'DT', 'NN', 'NNS', 'VBP', 'PRP', 'NN', 'NNS', 'NN', 'VBN', 'CD', 'CD', 'NNS', 'VBD', 'NN', 'JJ', 'NN', 'VBD', 'JJ', 'FW', 'NN', 'JJ', 'JJ', 'NN', 'NN', 'NN', 'VBD', 'NN', 'VBN', 'NN', 'PRP', 'VBZ', 'DT', 'NN', 'NN', 'VBZ', 'JJ', 'VBN', 'NN', 'JJ', 'NNS', 'VBP', 'JJ', 'NNS', 'VBP', 'JJ', 'NN', 'NN', 'JJ', 'NN', 'VBN', 'NNS', 'VBP', 'PRP', 'JJ', 'JJ', 'NN', 'NNS', 'VBP', 'JJ', 'NN', 'NN', 'FW', 'VBG', 'NN', 'NNS', 'NNS', 'VBD', 'JJ', 'NN', 'VBD', 'NN', 'VBD', 'RB', 'NN', 'NN', 'NNS', 'NNS', 'NNS', 'VBP', 'JJ', 'NNS', 'JJ', 'NN', 'NN', 'VBD', 'IN', 'NN', 'JJ', 'NN', 'NN', 'NN', 'NN', 'JJ', 'VBG', 'PRP', 'VBP', 'JJ', 'JJ', 'JJ', 'VBG', 'VBG', 'JJ', 'VBN', 'NN', 'RB', 'VBG', 'JJ', 'JJ', 'VBG', 'JJ', 'JJ', 'VBP', 'JJ', 'JJ', 'NN', 'JJ', 'VBN', 'NN', 'IN', 'JJ', 'JJ', 'NN', 'VBP', 'JJ', 'CD', 'JJ', 'NN', 'VBD', 'CD', 'NNS', 'VBZ', 'NNS', 'NNS', 'VBD', 'JJ', 'NN', 'VBG', 'VBG', 'NNS', 'JJ', 'VBG', 'JJ', 'NN', 'NN', 'NN', 'NNS', 'NN', 'MD', 'VB', 'JJS', 'RB', 'RB', 'JJ', 'NN', 'NN', 'JJ', 'NN', 'NN', 'NNS', 'NNS', 'NNS', 'VBP', 'VBN', 'JJ', 'NN', 'RB', 'VBZ', 'NN', 'VBG', 'JJ', 'NNS', 'NNS', 'VBZ', 'NN', 'NN', 'JJ', 'NNS', 'NN', 'NN', 'NN', 'NN', 'VBD', 'JJ', 'NNS', 'VBD', 'RB', 'VBN', 'NN', 'DT', 'NN', 'NN', 'NNS', 'VBD', 'RP', 'NN', 'NN', 'NN', 'NN', 'VBD', 'JJ', 'NN', 'NN', 'NNS', 'VBD', 'JJ', 'NN', 'NN', 'VBD', 'NN', 'NN', 'VBZ', 'VBG', 'JJ', 'NNS', 'NNS', 'VBP']\n"
          ]
        }
      ]
    },
    {
      "cell_type": "markdown",
      "metadata": {
        "id": "44xTvpLa_UC9"
      },
      "source": [
        "# Step 3: Build a Pipeline"
      ]
    },
    {
      "cell_type": "markdown",
      "metadata": {
        "id": "7g5g93owSogu"
      },
      "source": [
        "**Modify the block code below to your choice of classifier [link text](https://www.nltk.org/book/ch06.html)"
      ]
    },
    {
      "cell_type": "markdown",
      "metadata": {
        "id": "lGs1A8S1TMTi"
      },
      "source": []
    },
    {
      "cell_type": "code",
      "metadata": {
        "id": "i9HMKvgGMHPB",
        "colab": {
          "base_uri": "https://localhost:8080/"
        },
        "outputId": "8bf75aca-92d2-4bd3-cdba-07e758f89953"
      },
      "source": [
        "print(categories1)\n"
      ],
      "execution_count": 12,
      "outputs": [
        {
          "output_type": "stream",
          "name": "stdout",
          "text": [
            "['soc.religion.christian', 'sci.med']\n"
          ]
        }
      ]
    },
    {
      "cell_type": "markdown",
      "source": [
        "Without modification, the code will output all four classes.\n",
        "\n",
        "\n",
        "I included some commented codes in places where you may use to change to two class data sets   from your student number, and use logistic model.\n",
        "Your data sets can be obtained as twenty_train1, twenty_test1. All  data set names can be adjusted to get it right."
      ],
      "metadata": {
        "id": "Yl4relrvUjHt"
      }
    },
    {
      "cell_type": "code",
      "metadata": {
        "id": "9PDFkEEiL1GQ"
      },
      "source": [
        "twenty_train1 = fetch_20newsgroups(subset='train',  categories=categories1, shuffle=True, random_state=42)\n",
        "twenty_test1 = fetch_20newsgroups(subset='test',  categories=categories1, shuffle=True, random_state=42)"
      ],
      "execution_count": 13,
      "outputs": []
    },
    {
      "cell_type": "code",
      "metadata": {
        "id": "vNm3axlhdzlF"
      },
      "source": [
        "from sklearn.pipeline import Pipeline\n",
        "from sklearn.feature_extraction.text import CountVectorizer\n",
        "from sklearn.feature_extraction.text import TfidfTransformer\n",
        "from sklearn.linear_model import SGDClassifier, LogisticRegression\n",
        "\n",
        "# Level: lexicon, model: tf-idf\n",
        "text_clf = Pipeline([\n",
        "    # add your code about text processing\n",
        "    ('vect', CountVectorizer(analyzer=processText)),\n",
        "    ('tfidf', TfidfTransformer(use_idf=True)),\n",
        "\n",
        "    # change your classifier here, search: sklearn logistic regression example\n",
        "    #('clf', SGDClassifier())\n",
        "     ('clf', LogisticRegression())\n",
        "\n",
        "])"
      ],
      "execution_count": 14,
      "outputs": []
    },
    {
      "cell_type": "code",
      "metadata": {
        "id": "Vuq37Bf3Qjpn",
        "colab": {
          "base_uri": "https://localhost:8080/",
          "height": 162
        },
        "outputId": "d187cd43-c992-46c1-b3df-6e98a48a0195"
      },
      "source": [
        "# To train the model\n",
        "text_clf.fit(twenty_train1.data, twenty_train1.target)\n"
      ],
      "execution_count": 15,
      "outputs": [
        {
          "output_type": "execute_result",
          "data": {
            "text/plain": [
              "Pipeline(steps=[('vect',\n",
              "                 CountVectorizer(analyzer=<function processText at 0x7fa0b9370670>)),\n",
              "                ('tfidf', TfidfTransformer()), ('clf', LogisticRegression())])"
            ],
            "text/html": [
              "<style>#sk-container-id-1 {color: black;background-color: white;}#sk-container-id-1 pre{padding: 0;}#sk-container-id-1 div.sk-toggleable {background-color: white;}#sk-container-id-1 label.sk-toggleable__label {cursor: pointer;display: block;width: 100%;margin-bottom: 0;padding: 0.3em;box-sizing: border-box;text-align: center;}#sk-container-id-1 label.sk-toggleable__label-arrow:before {content: \"▸\";float: left;margin-right: 0.25em;color: #696969;}#sk-container-id-1 label.sk-toggleable__label-arrow:hover:before {color: black;}#sk-container-id-1 div.sk-estimator:hover label.sk-toggleable__label-arrow:before {color: black;}#sk-container-id-1 div.sk-toggleable__content {max-height: 0;max-width: 0;overflow: hidden;text-align: left;background-color: #f0f8ff;}#sk-container-id-1 div.sk-toggleable__content pre {margin: 0.2em;color: black;border-radius: 0.25em;background-color: #f0f8ff;}#sk-container-id-1 input.sk-toggleable__control:checked~div.sk-toggleable__content {max-height: 200px;max-width: 100%;overflow: auto;}#sk-container-id-1 input.sk-toggleable__control:checked~label.sk-toggleable__label-arrow:before {content: \"▾\";}#sk-container-id-1 div.sk-estimator input.sk-toggleable__control:checked~label.sk-toggleable__label {background-color: #d4ebff;}#sk-container-id-1 div.sk-label input.sk-toggleable__control:checked~label.sk-toggleable__label {background-color: #d4ebff;}#sk-container-id-1 input.sk-hidden--visually {border: 0;clip: rect(1px 1px 1px 1px);clip: rect(1px, 1px, 1px, 1px);height: 1px;margin: -1px;overflow: hidden;padding: 0;position: absolute;width: 1px;}#sk-container-id-1 div.sk-estimator {font-family: monospace;background-color: #f0f8ff;border: 1px dotted black;border-radius: 0.25em;box-sizing: border-box;margin-bottom: 0.5em;}#sk-container-id-1 div.sk-estimator:hover {background-color: #d4ebff;}#sk-container-id-1 div.sk-parallel-item::after {content: \"\";width: 100%;border-bottom: 1px solid gray;flex-grow: 1;}#sk-container-id-1 div.sk-label:hover label.sk-toggleable__label {background-color: #d4ebff;}#sk-container-id-1 div.sk-serial::before {content: \"\";position: absolute;border-left: 1px solid gray;box-sizing: border-box;top: 0;bottom: 0;left: 50%;z-index: 0;}#sk-container-id-1 div.sk-serial {display: flex;flex-direction: column;align-items: center;background-color: white;padding-right: 0.2em;padding-left: 0.2em;position: relative;}#sk-container-id-1 div.sk-item {position: relative;z-index: 1;}#sk-container-id-1 div.sk-parallel {display: flex;align-items: stretch;justify-content: center;background-color: white;position: relative;}#sk-container-id-1 div.sk-item::before, #sk-container-id-1 div.sk-parallel-item::before {content: \"\";position: absolute;border-left: 1px solid gray;box-sizing: border-box;top: 0;bottom: 0;left: 50%;z-index: -1;}#sk-container-id-1 div.sk-parallel-item {display: flex;flex-direction: column;z-index: 1;position: relative;background-color: white;}#sk-container-id-1 div.sk-parallel-item:first-child::after {align-self: flex-end;width: 50%;}#sk-container-id-1 div.sk-parallel-item:last-child::after {align-self: flex-start;width: 50%;}#sk-container-id-1 div.sk-parallel-item:only-child::after {width: 0;}#sk-container-id-1 div.sk-dashed-wrapped {border: 1px dashed gray;margin: 0 0.4em 0.5em 0.4em;box-sizing: border-box;padding-bottom: 0.4em;background-color: white;}#sk-container-id-1 div.sk-label label {font-family: monospace;font-weight: bold;display: inline-block;line-height: 1.2em;}#sk-container-id-1 div.sk-label-container {text-align: center;}#sk-container-id-1 div.sk-container {/* jupyter's `normalize.less` sets `[hidden] { display: none; }` but bootstrap.min.css set `[hidden] { display: none !important; }` so we also need the `!important` here to be able to override the default hidden behavior on the sphinx rendered scikit-learn.org. See: https://github.com/scikit-learn/scikit-learn/issues/21755 */display: inline-block !important;position: relative;}#sk-container-id-1 div.sk-text-repr-fallback {display: none;}</style><div id=\"sk-container-id-1\" class=\"sk-top-container\"><div class=\"sk-text-repr-fallback\"><pre>Pipeline(steps=[(&#x27;vect&#x27;,\n",
              "                 CountVectorizer(analyzer=&lt;function processText at 0x7fa0b9370670&gt;)),\n",
              "                (&#x27;tfidf&#x27;, TfidfTransformer()), (&#x27;clf&#x27;, LogisticRegression())])</pre><b>In a Jupyter environment, please rerun this cell to show the HTML representation or trust the notebook. <br />On GitHub, the HTML representation is unable to render, please try loading this page with nbviewer.org.</b></div><div class=\"sk-container\" hidden><div class=\"sk-item sk-dashed-wrapped\"><div class=\"sk-label-container\"><div class=\"sk-label sk-toggleable\"><input class=\"sk-toggleable__control sk-hidden--visually\" id=\"sk-estimator-id-1\" type=\"checkbox\" ><label for=\"sk-estimator-id-1\" class=\"sk-toggleable__label sk-toggleable__label-arrow\">Pipeline</label><div class=\"sk-toggleable__content\"><pre>Pipeline(steps=[(&#x27;vect&#x27;,\n",
              "                 CountVectorizer(analyzer=&lt;function processText at 0x7fa0b9370670&gt;)),\n",
              "                (&#x27;tfidf&#x27;, TfidfTransformer()), (&#x27;clf&#x27;, LogisticRegression())])</pre></div></div></div><div class=\"sk-serial\"><div class=\"sk-item\"><div class=\"sk-estimator sk-toggleable\"><input class=\"sk-toggleable__control sk-hidden--visually\" id=\"sk-estimator-id-2\" type=\"checkbox\" ><label for=\"sk-estimator-id-2\" class=\"sk-toggleable__label sk-toggleable__label-arrow\">CountVectorizer</label><div class=\"sk-toggleable__content\"><pre>CountVectorizer(analyzer=&lt;function processText at 0x7fa0b9370670&gt;)</pre></div></div></div><div class=\"sk-item\"><div class=\"sk-estimator sk-toggleable\"><input class=\"sk-toggleable__control sk-hidden--visually\" id=\"sk-estimator-id-3\" type=\"checkbox\" ><label for=\"sk-estimator-id-3\" class=\"sk-toggleable__label sk-toggleable__label-arrow\">TfidfTransformer</label><div class=\"sk-toggleable__content\"><pre>TfidfTransformer()</pre></div></div></div><div class=\"sk-item\"><div class=\"sk-estimator sk-toggleable\"><input class=\"sk-toggleable__control sk-hidden--visually\" id=\"sk-estimator-id-4\" type=\"checkbox\" ><label for=\"sk-estimator-id-4\" class=\"sk-toggleable__label sk-toggleable__label-arrow\">LogisticRegression</label><div class=\"sk-toggleable__content\"><pre>LogisticRegression()</pre></div></div></div></div></div></div></div>"
            ]
          },
          "metadata": {},
          "execution_count": 15
        }
      ]
    },
    {
      "cell_type": "markdown",
      "metadata": {
        "id": "gjQ8DmPNRUuJ"
      },
      "source": [
        "# Step 4: Make Prediction"
      ]
    },
    {
      "cell_type": "code",
      "metadata": {
        "id": "OMdoIHjMRWce"
      },
      "source": [
        "twenty_test = fetch_20newsgroups(subset='test', categories=categories, shuffle=True, random_state=42)\n",
        "predicted = text_clf.predict(twenty_test1.data)\n",
        "\n",
        "# To make prediction with dev/test set\n",
        "#predicted = text_clf.predict(twenty_test1.data)"
      ],
      "execution_count": 16,
      "outputs": []
    },
    {
      "cell_type": "markdown",
      "metadata": {
        "id": "3GXHJHqoBmyJ"
      },
      "source": [
        "# Step 5: Evaluation"
      ]
    },
    {
      "cell_type": "markdown",
      "source": [
        "**You need to modify the code so only two classes from your student number are output as matrix.**"
      ],
      "metadata": {
        "id": "QuBuHl6G5xhN"
      }
    },
    {
      "cell_type": "code",
      "metadata": {
        "id": "LdB9js0QDErf",
        "colab": {
          "base_uri": "https://localhost:8080/",
          "height": 537
        },
        "outputId": "8b61d56a-08cf-4d76-8b87-96908c3357af"
      },
      "source": [
        "# To evaluate your prediction on dev set\n",
        "from sklearn import metrics\n",
        "print(\"Accuracy:\", metrics.accuracy_score(twenty_test1.target, predicted))\n",
        "\n",
        "# Print the accuracy\n",
        "print(\"Accuracy:\", metrics.accuracy_score(twenty_test.target, predicted))\n",
        "\n",
        "# Print the precision, recall, and F1 score for each category\n",
        "print(metrics.classification_report(twenty_test.target, predicted, target_names=twenty_test.target_names))\n",
        "\n",
        "#  weighted average of these metrics\n",
        "print(\"Weighted Precision:\", metrics.precision_score(twenty_test.target, predicted, average='weighted'))\n",
        "print(\"Weighted Recall:\", metrics.recall_score(twenty_test.target, predicted, average='weighted'))\n",
        "print(\"Weighted F1 Score:\", metrics.f1_score(twenty_test.target, predicted, average='weighted'))\n",
        "\n",
        "print(metrics.classification_report(twenty_test1.target, predicted, target_names=twenty_test1.target_names))\n",
        "\n",
        "# confusion class\n",
        "pd.DataFrame(metrics.confusion_matrix(twenty_test1.target, predicted),\n",
        "             columns=twenty_test1.target_names,index=twenty_test1.target_names)"
      ],
      "execution_count": 17,
      "outputs": [
        {
          "output_type": "stream",
          "name": "stdout",
          "text": [
            "Accuracy: 0.9697732997481109\n",
            "Accuracy: 0.9697732997481109\n",
            "                        precision    recall  f1-score   support\n",
            "\n",
            "               sci.med       0.96      0.98      0.97       396\n",
            "soc.religion.christian       0.98      0.96      0.97       398\n",
            "\n",
            "              accuracy                           0.97       794\n",
            "             macro avg       0.97      0.97      0.97       794\n",
            "          weighted avg       0.97      0.97      0.97       794\n",
            "\n",
            "Weighted Precision: 0.9698817701448037\n",
            "Weighted Recall: 0.9697732997481109\n",
            "Weighted F1 Score: 0.9697721490219187\n",
            "                        precision    recall  f1-score   support\n",
            "\n",
            "               sci.med       0.96      0.98      0.97       396\n",
            "soc.religion.christian       0.98      0.96      0.97       398\n",
            "\n",
            "              accuracy                           0.97       794\n",
            "             macro avg       0.97      0.97      0.97       794\n",
            "          weighted avg       0.97      0.97      0.97       794\n",
            "\n"
          ]
        },
        {
          "output_type": "execute_result",
          "data": {
            "text/plain": [
              "                        sci.med  soc.religion.christian\n",
              "sci.med                     387                       9\n",
              "soc.religion.christian       15                     383"
            ],
            "text/html": [
              "\n",
              "  <div id=\"df-481c9269-7af1-4516-85fd-4f0396ba6844\" class=\"colab-df-container\">\n",
              "    <div>\n",
              "<style scoped>\n",
              "    .dataframe tbody tr th:only-of-type {\n",
              "        vertical-align: middle;\n",
              "    }\n",
              "\n",
              "    .dataframe tbody tr th {\n",
              "        vertical-align: top;\n",
              "    }\n",
              "\n",
              "    .dataframe thead th {\n",
              "        text-align: right;\n",
              "    }\n",
              "</style>\n",
              "<table border=\"1\" class=\"dataframe\">\n",
              "  <thead>\n",
              "    <tr style=\"text-align: right;\">\n",
              "      <th></th>\n",
              "      <th>sci.med</th>\n",
              "      <th>soc.religion.christian</th>\n",
              "    </tr>\n",
              "  </thead>\n",
              "  <tbody>\n",
              "    <tr>\n",
              "      <th>sci.med</th>\n",
              "      <td>387</td>\n",
              "      <td>9</td>\n",
              "    </tr>\n",
              "    <tr>\n",
              "      <th>soc.religion.christian</th>\n",
              "      <td>15</td>\n",
              "      <td>383</td>\n",
              "    </tr>\n",
              "  </tbody>\n",
              "</table>\n",
              "</div>\n",
              "    <div class=\"colab-df-buttons\">\n",
              "\n",
              "  <div class=\"colab-df-container\">\n",
              "    <button class=\"colab-df-convert\" onclick=\"convertToInteractive('df-481c9269-7af1-4516-85fd-4f0396ba6844')\"\n",
              "            title=\"Convert this dataframe to an interactive table.\"\n",
              "            style=\"display:none;\">\n",
              "\n",
              "  <svg xmlns=\"http://www.w3.org/2000/svg\" height=\"24px\" viewBox=\"0 -960 960 960\">\n",
              "    <path d=\"M120-120v-720h720v720H120Zm60-500h600v-160H180v160Zm220 220h160v-160H400v160Zm0 220h160v-160H400v160ZM180-400h160v-160H180v160Zm440 0h160v-160H620v160ZM180-180h160v-160H180v160Zm440 0h160v-160H620v160Z\"/>\n",
              "  </svg>\n",
              "    </button>\n",
              "\n",
              "  <style>\n",
              "    .colab-df-container {\n",
              "      display:flex;\n",
              "      gap: 12px;\n",
              "    }\n",
              "\n",
              "    .colab-df-convert {\n",
              "      background-color: #E8F0FE;\n",
              "      border: none;\n",
              "      border-radius: 50%;\n",
              "      cursor: pointer;\n",
              "      display: none;\n",
              "      fill: #1967D2;\n",
              "      height: 32px;\n",
              "      padding: 0 0 0 0;\n",
              "      width: 32px;\n",
              "    }\n",
              "\n",
              "    .colab-df-convert:hover {\n",
              "      background-color: #E2EBFA;\n",
              "      box-shadow: 0px 1px 2px rgba(60, 64, 67, 0.3), 0px 1px 3px 1px rgba(60, 64, 67, 0.15);\n",
              "      fill: #174EA6;\n",
              "    }\n",
              "\n",
              "    .colab-df-buttons div {\n",
              "      margin-bottom: 4px;\n",
              "    }\n",
              "\n",
              "    [theme=dark] .colab-df-convert {\n",
              "      background-color: #3B4455;\n",
              "      fill: #D2E3FC;\n",
              "    }\n",
              "\n",
              "    [theme=dark] .colab-df-convert:hover {\n",
              "      background-color: #434B5C;\n",
              "      box-shadow: 0px 1px 3px 1px rgba(0, 0, 0, 0.15);\n",
              "      filter: drop-shadow(0px 1px 2px rgba(0, 0, 0, 0.3));\n",
              "      fill: #FFFFFF;\n",
              "    }\n",
              "  </style>\n",
              "\n",
              "    <script>\n",
              "      const buttonEl =\n",
              "        document.querySelector('#df-481c9269-7af1-4516-85fd-4f0396ba6844 button.colab-df-convert');\n",
              "      buttonEl.style.display =\n",
              "        google.colab.kernel.accessAllowed ? 'block' : 'none';\n",
              "\n",
              "      async function convertToInteractive(key) {\n",
              "        const element = document.querySelector('#df-481c9269-7af1-4516-85fd-4f0396ba6844');\n",
              "        const dataTable =\n",
              "          await google.colab.kernel.invokeFunction('convertToInteractive',\n",
              "                                                    [key], {});\n",
              "        if (!dataTable) return;\n",
              "\n",
              "        const docLinkHtml = 'Like what you see? Visit the ' +\n",
              "          '<a target=\"_blank\" href=https://colab.research.google.com/notebooks/data_table.ipynb>data table notebook</a>'\n",
              "          + ' to learn more about interactive tables.';\n",
              "        element.innerHTML = '';\n",
              "        dataTable['output_type'] = 'display_data';\n",
              "        await google.colab.output.renderOutput(dataTable, element);\n",
              "        const docLink = document.createElement('div');\n",
              "        docLink.innerHTML = docLinkHtml;\n",
              "        element.appendChild(docLink);\n",
              "      }\n",
              "    </script>\n",
              "  </div>\n",
              "\n",
              "\n",
              "<div id=\"df-6e5036e7-ba95-4b18-ac53-ecb385b19c46\">\n",
              "  <button class=\"colab-df-quickchart\" onclick=\"quickchart('df-6e5036e7-ba95-4b18-ac53-ecb385b19c46')\"\n",
              "            title=\"Suggest charts\"\n",
              "            style=\"display:none;\">\n",
              "\n",
              "<svg xmlns=\"http://www.w3.org/2000/svg\" height=\"24px\"viewBox=\"0 0 24 24\"\n",
              "     width=\"24px\">\n",
              "    <g>\n",
              "        <path d=\"M19 3H5c-1.1 0-2 .9-2 2v14c0 1.1.9 2 2 2h14c1.1 0 2-.9 2-2V5c0-1.1-.9-2-2-2zM9 17H7v-7h2v7zm4 0h-2V7h2v10zm4 0h-2v-4h2v4z\"/>\n",
              "    </g>\n",
              "</svg>\n",
              "  </button>\n",
              "\n",
              "<style>\n",
              "  .colab-df-quickchart {\n",
              "      --bg-color: #E8F0FE;\n",
              "      --fill-color: #1967D2;\n",
              "      --hover-bg-color: #E2EBFA;\n",
              "      --hover-fill-color: #174EA6;\n",
              "      --disabled-fill-color: #AAA;\n",
              "      --disabled-bg-color: #DDD;\n",
              "  }\n",
              "\n",
              "  [theme=dark] .colab-df-quickchart {\n",
              "      --bg-color: #3B4455;\n",
              "      --fill-color: #D2E3FC;\n",
              "      --hover-bg-color: #434B5C;\n",
              "      --hover-fill-color: #FFFFFF;\n",
              "      --disabled-bg-color: #3B4455;\n",
              "      --disabled-fill-color: #666;\n",
              "  }\n",
              "\n",
              "  .colab-df-quickchart {\n",
              "    background-color: var(--bg-color);\n",
              "    border: none;\n",
              "    border-radius: 50%;\n",
              "    cursor: pointer;\n",
              "    display: none;\n",
              "    fill: var(--fill-color);\n",
              "    height: 32px;\n",
              "    padding: 0;\n",
              "    width: 32px;\n",
              "  }\n",
              "\n",
              "  .colab-df-quickchart:hover {\n",
              "    background-color: var(--hover-bg-color);\n",
              "    box-shadow: 0 1px 2px rgba(60, 64, 67, 0.3), 0 1px 3px 1px rgba(60, 64, 67, 0.15);\n",
              "    fill: var(--button-hover-fill-color);\n",
              "  }\n",
              "\n",
              "  .colab-df-quickchart-complete:disabled,\n",
              "  .colab-df-quickchart-complete:disabled:hover {\n",
              "    background-color: var(--disabled-bg-color);\n",
              "    fill: var(--disabled-fill-color);\n",
              "    box-shadow: none;\n",
              "  }\n",
              "\n",
              "  .colab-df-spinner {\n",
              "    border: 2px solid var(--fill-color);\n",
              "    border-color: transparent;\n",
              "    border-bottom-color: var(--fill-color);\n",
              "    animation:\n",
              "      spin 1s steps(1) infinite;\n",
              "  }\n",
              "\n",
              "  @keyframes spin {\n",
              "    0% {\n",
              "      border-color: transparent;\n",
              "      border-bottom-color: var(--fill-color);\n",
              "      border-left-color: var(--fill-color);\n",
              "    }\n",
              "    20% {\n",
              "      border-color: transparent;\n",
              "      border-left-color: var(--fill-color);\n",
              "      border-top-color: var(--fill-color);\n",
              "    }\n",
              "    30% {\n",
              "      border-color: transparent;\n",
              "      border-left-color: var(--fill-color);\n",
              "      border-top-color: var(--fill-color);\n",
              "      border-right-color: var(--fill-color);\n",
              "    }\n",
              "    40% {\n",
              "      border-color: transparent;\n",
              "      border-right-color: var(--fill-color);\n",
              "      border-top-color: var(--fill-color);\n",
              "    }\n",
              "    60% {\n",
              "      border-color: transparent;\n",
              "      border-right-color: var(--fill-color);\n",
              "    }\n",
              "    80% {\n",
              "      border-color: transparent;\n",
              "      border-right-color: var(--fill-color);\n",
              "      border-bottom-color: var(--fill-color);\n",
              "    }\n",
              "    90% {\n",
              "      border-color: transparent;\n",
              "      border-bottom-color: var(--fill-color);\n",
              "    }\n",
              "  }\n",
              "</style>\n",
              "\n",
              "  <script>\n",
              "    async function quickchart(key) {\n",
              "      const quickchartButtonEl =\n",
              "        document.querySelector('#' + key + ' button');\n",
              "      quickchartButtonEl.disabled = true;  // To prevent multiple clicks.\n",
              "      quickchartButtonEl.classList.add('colab-df-spinner');\n",
              "      try {\n",
              "        const charts = await google.colab.kernel.invokeFunction(\n",
              "            'suggestCharts', [key], {});\n",
              "      } catch (error) {\n",
              "        console.error('Error during call to suggestCharts:', error);\n",
              "      }\n",
              "      quickchartButtonEl.classList.remove('colab-df-spinner');\n",
              "      quickchartButtonEl.classList.add('colab-df-quickchart-complete');\n",
              "    }\n",
              "    (() => {\n",
              "      let quickchartButtonEl =\n",
              "        document.querySelector('#df-6e5036e7-ba95-4b18-ac53-ecb385b19c46 button');\n",
              "      quickchartButtonEl.style.display =\n",
              "        google.colab.kernel.accessAllowed ? 'block' : 'none';\n",
              "    })();\n",
              "  </script>\n",
              "</div>\n",
              "    </div>\n",
              "  </div>\n"
            ],
            "application/vnd.google.colaboratory.intrinsic+json": {
              "type": "dataframe",
              "summary": "{\n  \"name\": \"             columns=twenty_test1\",\n  \"rows\": 2,\n  \"fields\": [\n    {\n      \"column\": \"sci.med\",\n      \"properties\": {\n        \"dtype\": \"number\",\n        \"std\": 263,\n        \"min\": 15,\n        \"max\": 387,\n        \"num_unique_values\": 2,\n        \"samples\": [\n          15,\n          387\n        ],\n        \"semantic_type\": \"\",\n        \"description\": \"\"\n      }\n    },\n    {\n      \"column\": \"soc.religion.christian\",\n      \"properties\": {\n        \"dtype\": \"number\",\n        \"std\": 264,\n        \"min\": 9,\n        \"max\": 383,\n        \"num_unique_values\": 2,\n        \"samples\": [\n          383,\n          9\n        ],\n        \"semantic_type\": \"\",\n        \"description\": \"\"\n      }\n    }\n  ]\n}"
            }
          },
          "metadata": {},
          "execution_count": 17
        }
      ]
    },
    {
      "cell_type": "markdown",
      "metadata": {
        "id": "qCLCqFXPQsRq"
      },
      "source": [
        "# Step 6: Error Analysis and Discussion\n",
        "write down your own obseration about the predictions. Consider both confusion matrix and selected examples. Which classes are predicted correctly or incorrecly, possible explaination, possible solutions\n",
        "\n",
        "Exmaple: 1) Lab Practical, which feature is helpful for female name classification. https://www.nltk.org/book/ch06.html\n",
        "2) research paper: https://github.com/yoonkim/CNN_sentence\n"
      ]
    },
    {
      "cell_type": "code",
      "metadata": {
        "id": "kvBw9qkKDS-m",
        "colab": {
          "base_uri": "https://localhost:8080/"
        },
        "outputId": "3e503d98-91b5-4dca-f591-448ee1c537ab"
      },
      "source": [
        "print(len(twenty_test.data))\n",
        "print(len(twenty_test.target))\n",
        "predicted = text_clf.predict(twenty_test.data)\n",
        "print(len(predicted))\n",
        "\n",
        "df_pred = pd.DataFrame({'news': twenty_test.data, 'predicted': predicted, 'true': twenty_test.target})\n",
        "df_pred['correct'] = df_pred['predicted'] == df_pred['true']\n",
        "incorrect_predictions = df_pred[df_pred['correct'] == False]\n",
        "\n",
        "#df_pred = pd.DataFrame({'news':twenty_test.data,'prediction':predicted, 'true':twenty_test.target})\n",
        "#df_pred[df_pred['true'] != df_pred['prediction']]"
      ],
      "execution_count": 18,
      "outputs": [
        {
          "output_type": "stream",
          "name": "stdout",
          "text": [
            "794\n",
            "794\n",
            "794\n"
          ]
        }
      ]
    },
    {
      "cell_type": "code",
      "source": [
        "#evaluate the predictions\n",
        "#creating confusion matrix anc calculating other evaluation metrics\n",
        "\n",
        "from sklearn.metrics import confusion_matrix, classification_report, accuracy_score\n",
        "\n",
        "# Assuming 'twenty_test.target' are the true labels and 'predicted' are the labels predicted by your model\n",
        "cm = confusion_matrix(twenty_test.target, predicted)\n",
        "cr = classification_report(twenty_test.target, predicted, target_names=twenty_test.target_names)\n",
        "accuracy = accuracy_score(twenty_test.target, predicted)\n",
        "\n",
        "# Print out the metrics\n",
        "print(\"Confusion Matrix:\\n\", cm)\n",
        "print(\"\\nClassification Report:\\n\", cr)\n",
        "print(\"\\nAccuracy:\", accuracy)\n"
      ],
      "metadata": {
        "colab": {
          "base_uri": "https://localhost:8080/"
        },
        "id": "r1-rMWtrFPzF",
        "outputId": "aa276eb8-98ba-4c67-d4fe-3c815b0937b8"
      },
      "execution_count": 19,
      "outputs": [
        {
          "output_type": "stream",
          "name": "stdout",
          "text": [
            "Confusion Matrix:\n",
            " [[387   9]\n",
            " [ 15 383]]\n",
            "\n",
            "Classification Report:\n",
            "                         precision    recall  f1-score   support\n",
            "\n",
            "               sci.med       0.96      0.98      0.97       396\n",
            "soc.religion.christian       0.98      0.96      0.97       398\n",
            "\n",
            "              accuracy                           0.97       794\n",
            "             macro avg       0.97      0.97      0.97       794\n",
            "          weighted avg       0.97      0.97      0.97       794\n",
            "\n",
            "\n",
            "Accuracy: 0.9697732997481109\n"
          ]
        }
      ]
    },
    {
      "cell_type": "code",
      "source": [
        "from sklearn.metrics import confusion_matrix\n",
        "import seaborn as sns\n",
        "import matplotlib.pyplot as plt\n",
        "\n",
        "# Assuming 'predicted' contains your model predictions and 'twenty_test.target' are the true labels\n",
        "cm = confusion_matrix(twenty_test.target, predicted)\n",
        "sns.heatmap(cm, annot=True, fmt='d')\n",
        "plt.xlabel('Predicted')\n",
        "plt.ylabel('True')\n",
        "plt.show()"
      ],
      "metadata": {
        "colab": {
          "base_uri": "https://localhost:8080/",
          "height": 449
        },
        "id": "F5hyO2IZH1xF",
        "outputId": "996c4876-630d-4b09-a4e4-e447f264223f"
      },
      "execution_count": 23,
      "outputs": [
        {
          "output_type": "display_data",
          "data": {
            "text/plain": [
              "<Figure size 640x480 with 2 Axes>"
            ],
            "image/png": "[encoded data removed]"
          },
          "metadata": {}
        }
      ]
    },
    {
      "cell_type": "code",
      "source": [
        "import numpy as np\n",
        "\n",
        "# Assume `twenty_test.target` are the true labels and `predicted` are your model's predictions\n",
        "false_positives = np.where((predicted == 1) & (twenty_test.target == 0))[0]\n",
        "false_negatives = np.where((predicted == 0) & (twenty_test.target == 1))[0]\n",
        "\n",
        "#FALSE POSITIVE\n",
        "print(\"Example of a false positive (Predicted as 1 but actual is 0):\")\n",
        "print(twenty_test.data[false_positives[0]])"
      ],
      "metadata": {
        "colab": {
          "base_uri": "https://localhost:8080/"
        },
        "id": "yHsAyF82JtMs",
        "outputId": "18b06871-cdff-4b96-b5a5-b4804a93bc66"
      },
      "execution_count": 24,
      "outputs": [
        {
          "output_type": "stream",
          "name": "stdout",
          "text": [
            "Example of a false positive (Predicted as 1 but actual is 0):\n",
            "From: menon@boulder.Colorado.EDU (Ravi or Deantha Menon)\n",
            "Subject: Re: Need info on Circumcision, medical cons and pros\n",
            "Nntp-Posting-Host: beagle.colorado.edu\n",
            "Organization: University of Colorado, Boulder\n",
            "Lines: 29\n",
            "\n",
            "texx@ossi.com (\"Texx\") writes:\n",
            "\n",
            ">Scene: Navy boot camp\n",
            "\n",
            ">DI:\t\t\"Son, you smel awful! Dont you ever clean that thing?\"\n",
            ">Recruit:\t\"No Sir !\"\n",
            ">DI:\t\t\"Why the hell NOT!\"\n",
            ">Recruit:\t\"Your not sposed to touch down there?\"\n",
            ">DI:\t\t\"Why ?\"\n",
            ">Recruit:\t\"Cause thats the eye of god down there, an' your not s'posed to touch it...\"\n",
            "\n",
            ">This did not happen 40 years ago, it happened 2 years ago.\n",
            "\n",
            ">I think Americans are QUITE hung up about sex and the involved plumbing!\n",
            "\n",
            "Cute anecdote, but hardly indicative of the population.  From the responses\n",
            "I've received to that post (all from men, by the way) I get the impression\n",
            "that unless a person is willing to drop down and masturbate whenever the\n",
            "need or desire strikes, then that person is very hung up on sex.\n",
            "\n",
            "With tv programs about \"boobs\" (Seinfeld) and \"masturbation (again Seinfeld)\n",
            "and with condoms being handed out in high schools and with the teenage\n",
            "pregnancy rate and the high abortion rate here in the States, I would\n",
            "not assume that we American's are frightened of sex.  Rather we are a bit\n",
            "stupid about it.  Healthy sexuality does not require flamboyance or\n",
            "promiscuity.  It requires responsibility.\n",
            "\n",
            "\n",
            "Deantha\n",
            "\n"
          ]
        }
      ]
    },
    {
      "cell_type": "code",
      "source": [
        "#FALSE NEGETIVE\n",
        "print(\"Example of a false negative (Predicted as 0 but actual is 1):\")\n",
        "print(twenty_test.data[false_negatives[0]])\n"
      ],
      "metadata": {
        "colab": {
          "base_uri": "https://localhost:8080/"
        },
        "id": "atcygPn4KfUv",
        "outputId": "0fa8f2a9-a5cf-4f32-942d-8007e72d8240"
      },
      "execution_count": 25,
      "outputs": [
        {
          "output_type": "stream",
          "name": "stdout",
          "text": [
            "Example of a false negative (Predicted as 0 but actual is 1):\n",
            "From: idqm400@indyvax.iupui.edu\n",
            "Subject: Knights of Columbus\n",
            "Lines: 9\n",
            "\n",
            "\n",
            "\tThe initiations ceremony for Knights ous is almost\n",
            "as secretive as that for the Mafia.\n",
            "\n",
            "What are the phases of initation and why the secretiveness?\n",
            "\n",
            "\n",
            "Dale   idqm400@indyvax.iupui.edu\n",
            "                                                                \n",
            "\n"
          ]
        }
      ]
    },
    {
      "cell_type": "code",
      "source": [
        "# Display examples of CORRECT predictions\n",
        "correct_indices = [i for i, (true, pred) in enumerate(zip(twenty_test.target, predicted)) if true == pred]\n",
        "incorrect_indices = [i for i, (true, pred) in enumerate(zip(twenty_test.target, predicted)) if true != pred]\n",
        "\n",
        "print(\"Correctly predicted examples:\")\n",
        "for i in correct_indices[:5]:  # Display first 5 correct predictions\n",
        "    print(f\"News: {twenty_test.data[i]}\")\n",
        "    print(f\"Predicted: {twenty_test.target_names[predicted[i]]}, Actual: {twenty_test.target_names[twenty_test.target[i]]}\\n\")"
      ],
      "metadata": {
        "colab": {
          "base_uri": "https://localhost:8080/"
        },
        "id": "KisPQAs0HWx0",
        "outputId": "04183e51-fbe3-4dd9-90ce-0032ca8ed1d5"
      },
      "execution_count": 26,
      "outputs": [
        {
          "output_type": "stream",
          "name": "stdout",
          "text": [
            "Correctly predicted examples:\n",
            "News: From: sun075!Gerry.Palo@uunet.uu.net (Gerry Palo)\n",
            "Subject: Re: Portland earthquake\n",
            "Lines: 68\n",
            "\n",
            "Austin C Archer (archau@saturn.wwc.edu) wrote:\n",
            ">\n",
            ">I am interested in views about the non-event of May 3. Seriously, how can a \n",
            ">Christian discriminate between \"messages from God\" which are to be taken \n",
            ">seriously, and those which are spurious?  Is there a useful heuristic which \n",
            ">would help us avoid embracing messages which, by their non-fulfillment are \n",
            ">proven to be false, thus causing the name of Christ to be placed in \n",
            ">disrepute? Is this a problem at all?\n",
            "\n",
            "It is possible that the individual saw a true prophetic vision, but that he\n",
            "interpreted the scale of time and space according to his material con-\n",
            "sciousness, translating the supersensible perceptions of a plane above\n",
            "that of time and space into an immediate worldly context -- and getting it\n",
            "wrong.  Not that he did it rationally, but rather that unconsciously the\n",
            "perceptions became clothed in material images, instead of remaining in the\n",
            "realm of the potential and not-yet-time-space-bound.  This difficulty of\n",
            "translating prophetic vision into a concrete when and where has always been\n",
            "difficult, even for the prophets of old.  That is why their prophecies are\n",
            "so often subject to multiple interpretations.  Likewise, the Apostles seemed\n",
            "to feel that the return of the Lord was to be \"very soon\" in the sense of\n",
            "perhaps the same generation. Yet the meaning of \"very soon\" has proven to\n",
            "be different than they could grasp.  Prophetic vision tends to telescope\n",
            "time, so that things that are far off appear to be very close.\n",
            "\n",
            "Another possibility is that the vision was one of a real event preparing to\n",
            "happen, again in the realm of the potential-but-not-yet-manifest and which\n",
            "was thwarted by other forces, including possibly an act of divine mercy.\n",
            "\n",
            "There are many concrete prophecies being made these days by devout and\n",
            "sincere and sober Christians (and others too).  It seems that great coming \n",
            "events are really casting their shadow before their arrival in these \n",
            "\"apocalyptic\" times.  The various predictions (I'm talking about those that\n",
            "appear to be sincere and sober) are hard to accept, yet hard to ignore com-\n",
            "pletely.  One has the feeling \"something is about to start to get ready to \n",
            "begin to commence to happen\".  We are living, as the Chinese saying goes,\n",
            "in interesting times.\n",
            "\n",
            "As for how to discriminate, the Bible doesn't help much.  There is an Old\n",
            "Testament passage (I forget where it is) that says you will know whether\n",
            "a prophet is true by whether or not his prophecy comes to pass.  That\n",
            "helps eliminate the failures after the fact, but in the case of an earth-\n",
            "quake it is small comfort.  It seems to me that all prophecies that give\n",
            "specific times and places and events should be suspect, not in that they\n",
            "are necessarily false, but in the sense stated above, that all such visions\n",
            "are subject to mistranslation from the plane of prophetic vision to the\n",
            "plane of earthly time and space.\n",
            "\n",
            "For what it is worth, Rudolf Steiner once was asked whether a modern initiate \n",
            "could see into the future and predict coming events.  His answer was that \n",
            "it would be possible but then he would have to withdraw from active parti-\n",
            "cipation in them, including proclaiming what he saw.  If this is in fact\n",
            "a spiritual law, then the answer to your question about how to discriminate\n",
            "is that the one who makes such prophecies is probably violating that law,\n",
            "knowingly or unknowingly, and as such his message should be considered\n",
            "a priori to be dubious.  I.e. I would expect that those capable of making\n",
            "true predictions and giving accurate expression to them would not do so in \n",
            "the way that the prophet of the Oregon earthquake did.  However, I can\n",
            "sympathize with the person who published the prophecy. Given the same\n",
            "overwhelming experience that he apparently had,  I too might feel impelled, \n",
            "and even commissioned by God to tell my fellow human beings about what \n",
            "I had seen.\n",
            "\n",
            "Gerry Palo (73237.2006@compuserve.com)\n",
            "\n",
            "\n",
            "[Do any of our church historian readers know whether there's any\n",
            "more prophecy now than there has been in the past?  I don't get\n",
            "that impression.  --clh]\n",
            "\n",
            "Predicted: soc.religion.christian, Actual: soc.religion.christian\n",
            "\n",
            "News: From: Eugene.Bigelow@ebay.sun.com (Geno )\n",
            "Subject: Re: SJ Mercury's reference to Fundamentali\n",
            "Reply-To: Eugene.Bigelow@ebay.sun.com\n",
            "Organization: Sun Microsystems, Inc.\n",
            "Lines: 18\n",
            "\n",
            "In article <May.11.02.37.07.1993.28120@athos.rutgers.edu>, dan@ingres.com (a Rose arose) writes:\n",
            "|> \t\"Raised in Oakland and San Lorenzo by strict fundamentalist\n",
            "|> \tChristian parents, Mason was beaten as a child.  ...\n",
            "\n",
            "|> Were the San Jose Mercury news to come out with an article starting with\n",
            "|> \"Raised in Oakland by Mexican parents, Mason was beaten...\", my face would\n",
            "\n",
            ">Perhaps because there is a connection here that is not there in the Mexican\n",
            ">variant you bring up.\n",
            "\n",
            "This is true. The statement didn't say anything about Christians in general.\n",
            "It specifically said \"strict fundamentalist\" Christians. It reflects a\n",
            "common perception that people have about fundamentalists being strict\n",
            "disciplinarians. Whether or not this perception is justified is another issue.\n",
            "\n",
            "\n",
            "[The other reading is that they are distinguishing between strict\n",
            "and relaxed fundamentalists.  --clh]\n",
            "\n",
            "Predicted: soc.religion.christian, Actual: soc.religion.christian\n",
            "\n",
            "News: From: fsela1@acad3.alaska.edu\n",
            "Subject: Re: Why do people become atheists?\n",
            "Organization: University of Alaska Fairbanks\n",
            "Lines: 21\n",
            "\n",
            "In article <May.5.02.50.42.1993.28665@athos.rutgers.edu>, Fil.Sapienza@med.umich.edu (Fil Sapienza) writes:\n",
            "> I am interested in finding out why people become\n",
            "> atheists after having believed in some god/God.\n",
            "> In conversing with them on other groups, I've\n",
            "> often sensed anger or hostility.   Though I don't\n",
            "> mean to imply that all atheists are angry or hostile,\n",
            "> it does seem to be one motivation for giving up\n",
            "> faith.  Thus, some atheism might result from \n",
            "> broken-ness.\n",
            "\n",
            "\n",
            "i'm atheist\n",
            "just because\n",
            "there is no supreme being\n",
            "there is the world as we know it\n",
            "and it's wonderful and incredible\n",
            "and there is love between people\n",
            "and these things are everything\n",
            "i don't believe in a god that made this all\n",
            "i believe in the amazing and beautiful\n",
            "teaming with life world i live in\n",
            "\n",
            "Predicted: soc.religion.christian, Actual: soc.religion.christian\n",
            "\n",
            "News: From: Mail.Server@mozart.cc.iup.edu (mserv)\n",
            "Subject: Ten Commandments or Ten Discourses?\n",
            "Lines: 135\n",
            "\n",
            "In the course of discussing the Sabbath with some folks, \n",
            "I came across something that was completely new to me, \n",
            "and I thought I'd offer it for comment.\n",
            "\n",
            "To keep this as brief as possible, let me state my \n",
            "observation as a declarative statement, and then whoever \n",
            "wants to can comment on it.  Basically, what I think \n",
            "I've observed is that the phrase \"the Ten Commandments\", \n",
            "as used by Moses, is not a reference to Ex. 20:1-17, but \n",
            "rather a reference to ten distinct discourses from Ex. \n",
            "20:1 through Ex. 31:18.  That is, the phrase \"the Ten \n",
            "Commandments\" should more accurately be translated \"the \n",
            "Ten Discourses\", of which the passage we call the \"Ten \n",
            "Commandments\" is really only the first.\n",
            "\n",
            "I'm not completely convinced that the above is true, but \n",
            "for purposes of discussion, let me argue it as though I \n",
            "was sure.\n",
            "\n",
            "Arguments supporting the above idea:\n",
            "\n",
            "1)  There aren't really ten commandments in Ex. 20:1-17.  \n",
            "In order to get 10 commandments, you have to get two of \n",
            "them out of verses 3-6, and the verses themselves do not \n",
            "support such a division because they are all about not \n",
            "worshipping other gods.  That is, verse 3 commands to \n",
            "have no other gods, and verse 5 commands to not worship \n",
            "the idols mentioned in verse 4.  You can't violate \n",
            "verses 5-6 without violating verse 3, indicating that \n",
            "the whole passage is one command, and leaving us with \n",
            "only Nine \"Commandments\".  I could go on at length about \n",
            "this, but for now I'll just stop with this summary.\n",
            "\n",
            "2)  There ARE ten speeches between Ex 20:1 (the beginning\n",
            "of the traditional \"Ten Commandments\") and Ex 31:18 \n",
            "(where God actually gives Moses the two tablets with the \n",
            "Ten Commandments/Discourses written on them).  I break \n",
            "these ten down as follows: 20:1-17; 20:22-26; 21:1-23:33; \n",
            "25:1-30:10; 30:11-16; 30:17-21; 30:22-33; 30:34-38; \n",
            "31:1-11; and 31:12-18.  In most cases, each of these \n",
            "passages begins with some variation of the phrase, \"And \n",
            "the LORD spoke to Moses, saying...\"  The exception is \n",
            "Ex. 21:1, which begins \"Now these are the ordinances \n",
            "which you are to set before them...\"\n",
            "\n",
            "3)  The word translated \"commandments\" in the phrase \n",
            "\"the Ten Commandments\" isn't really the word for \n",
            "\"commandment\", its the word for a speech, or an \n",
            "utterance.  It's a word often used for longer discourses \n",
            "rather than individual statements; for instance, when \n",
            "combined with the word 'yom' (day), this word is \n",
            "translated \"Chronicles\" in such phrases as \"now the rest \n",
            "of the acts of so-and-so, are they not written in the \n",
            "Chronicles of x?...\"  The word for \"commandment\" is \n",
            "freely used throughout the books of Moses, and perhaps \n",
            "it is significant that when Moses spoke of the Ten X's, \n",
            "he appears to have avoided the word for commandment and \n",
            "chosen instead a word associated with discourses longer \n",
            "than just a single command.\n",
            "\n",
            "4)  God tells Moses that He is going to give him the \n",
            "stone tablets \"with the law and the commandments\" (Ex \n",
            "24:12), yet He does not give Moses the tablets until He \n",
            "has finished all ten discourses on Mount Sinai.  If the \n",
            "Ten Commandments were only Ex. 20:1-17, it is not \n",
            "immediately clear why God would wait several days and \n",
            "nine more discourses before giving these tablets to \n",
            "Moses.  On the other hand, if we have the Ten Discourses \n",
            "written on the tablets, then it makes perfect sense that \n",
            "God would not give Moses the tablets until He had \n",
            "finished delivering all Ten Discourses.\n",
            "\n",
            "5)  When Moses did get the tablets, he found that both \n",
            "tablets were written on both sides (Ex. 32:15).  If \n",
            "these Ten \"Commandments\" were only the first 17 verses \n",
            "of Ex. 20, God would have had to have written in LARGE \n",
            "letters!  Not that He couldn't have, of course, but it \n",
            "does seem more likely to me that this is a reference to \n",
            "two tablets containing ten discourses written in normal-\n",
            "sized letters.\n",
            "\n",
            "6)  In II Cor. 3, Paul seems to specifically single out \n",
            "the \"commandments written on stone\" as being the \n",
            "\"ministry of death\", \"that which is fading away,\" and \n",
            "\"the ministry of condemnation.\"  With the possible \n",
            "exception of the commandment about the Sabbath, it is \n",
            "difficult to see why Paul would refer to the commands in \n",
            "Ex. 20:1-17 as being temporary, \"fading away\"-type \n",
            "commandments.  This is less of a problem if the stone \n",
            "tablets should happen to have included all of the \n",
            "commandments from Ex 20 through Ex 31.\n",
            "\n",
            "Arguments against this idea:\n",
            "\n",
            "The main argument against this idea, aside from the fact \n",
            "that it contradicts a long-standing tradition, is that \n",
            "in Dt 5:22, Moses says, after quoting the commands in \n",
            "Ex. 20:1-17, \"These words the LORD spoke...and He added \n",
            "no more.  And He wrote them on two tablets of stone and \n",
            "gave them to me.\"  This appears to identify the words \n",
            "just quoted as being the only contents of the two stone \n",
            "tablets.\n",
            "\n",
            "That was my first impression, anyway.  However, after \n",
            "some thought, I noted that a great deal hinges on how \n",
            "you understand the phrase \"These words.\"  If Moses meant \n",
            "\"These words *which I have just related to you* were \n",
            "spoken by God\" etc., then that would mean that only the \n",
            "traditional \"Ten Commandments\" were on the stone \n",
            "tablets.  If, however, Moses was making a parenthetical \n",
            "comment--\"These words *which I AM NOW telling you* were \n",
            "spoken by God\" etc.--then that's quite different.\n",
            "\n",
            "I did note that in the Dt 5 account, Moses tells of \n",
            "being given the stone tablets BEFORE telling of the \n",
            "people asking Moses to represent them before God, \n",
            "whereas in the Exodus account, the people asked this of \n",
            "Moses between the first and second discourses, several \n",
            "days BEFORE God gave Moses the stone tablets.  This \n",
            "reinforces the idea that Moses' remarks in Dt 5:22ff \n",
            "were intended as a parenthetical remark, rather than a \n",
            "strictly chronological account of when God wrote what, \n",
            "and at what point He stopped adding to what was on the \n",
            "tablets.\n",
            "\n",
            "Summary:  all things considered, I find it somewhat more \n",
            "likely that the nine commands in Ex 20 are really only \n",
            "the first of what Moses regarded as the Ten Discourses \n",
            "of God.  I don't know if anybody has ever espoused this \n",
            "idea before; it's brand-new to me.  So, while I lean \n",
            "towards accepting it, I would be very interested in \n",
            "hearing any comments and criticisms anyone may care to \n",
            "offer.\n",
            "\n",
            "- Mark\n",
            "\n",
            "Predicted: soc.religion.christian, Actual: soc.religion.christian\n",
            "\n",
            "News: From: mrbulli@btoy1.rochester.NY.US (Mr. Bulli (private account))\n",
            "Subject: Re: Vasectomy: Health Effects on Women?\n",
            "Reply-To: mrbulli@btoy1.rochester.NY.US\n",
            "Organization: Private UUCP site\n",
            "X-Newsreader: TIN [version 1.1 PL9]\n",
            "Lines: 25\n",
            "\n",
            "On 28 Apr 93 20:54:04 GMT joshm@yang.earlham.edu wrote:\n",
            ": In article <1993Apr27.110440.5069@nic.csu.net>, eskagerb@nermal.santarosa.edu (Eric Skagerberg) writes:\n",
            ": > Does anyone know of any studies done on the long-term health effects of a\n",
            ": > man's vasectomy on his female partner?\n",
            ": > \n",
            ": > ...\n",
            ": I've heard of NO studies, but speculation:\n",
            "\n",
            ": Why on _earth_ would there be any effect on women's health?  That's about \n",
            ": the most absurd idea I've heard since Ted Kaldis's claim that no more than \n",
            ": 35,000 people would march on Washington.\n",
            "\n",
            ": Ok, _one_ point:  Greatly reduced chance of pregnancy.  But that's it.\n",
            "\n",
            ": --Josh\n",
            "\n",
            "Well, there might be another: Since I'm sterile my wife can enjoy sex \n",
            "without fear of getting pregnant.\n",
            "--\n",
            "  ______                             __        _  _\n",
            "    /   /                           /  )      // //                        \n",
            "   /   /_  __________  __.  _      /--<  . . // // o ____  _,  _  __\n",
            "(_/   / /_(_) / / / <_(_/|_/_)    /___/_(_/_</_</_<_/ / <_(_)_</_/ (_\n",
            "       UUCP:     ..rutgers!ur-valhalla!btoy1!mrbulli      /|  Compu$erve:\n",
            "       Internet:       mrbulli@btoy1.rochester.NY.US     |/    76535,2221\n",
            "\n",
            "Predicted: sci.med, Actual: sci.med\n",
            "\n"
          ]
        }
      ]
    },
    {
      "cell_type": "code",
      "source": [
        "#Incorrect Predicted Example\n",
        "\n",
        "print(\"Incorrectly predicted examples:\")\n",
        "for i in incorrect_indices[:5]:  # Display first 5 incorrect predictions\n",
        "    print(f\"News: {twenty_test.data[i]}\")\n",
        "    print(f\"Predicted: {twenty_test.target_names[predicted[i]]}, Actual: {twenty_test.target_names[twenty_test.target[i]]}\\n\")"
      ],
      "metadata": {
        "colab": {
          "base_uri": "https://localhost:8080/"
        },
        "id": "-xCHprexKK2o",
        "outputId": "c9515195-c7c5-454b-cf12-7df3ec4ff03a"
      },
      "execution_count": 27,
      "outputs": [
        {
          "output_type": "stream",
          "name": "stdout",
          "text": [
            "Incorrectly predicted examples:\n",
            "News: From: idqm400@indyvax.iupui.edu\n",
            "Subject: Knights of Columbus\n",
            "Lines: 9\n",
            "\n",
            "\n",
            "\tThe initiations ceremony for Knights ous is almost\n",
            "as secretive as that for the Mafia.\n",
            "\n",
            "What are the phases of initation and why the secretiveness?\n",
            "\n",
            "\n",
            "Dale   idqm400@indyvax.iupui.edu\n",
            "                                                                \n",
            "\n",
            "Predicted: sci.med, Actual: soc.religion.christian\n",
            "\n",
            "News: From: dt4%cs@hub.ucsb.edu (David E. Goggin)\n",
            "Subject: Dreams and out of body incidents\n",
            "Lines: 38\n",
            "\n",
            "hey folks,\n",
            "\n",
            "I'm fairly new to these groups, tho' some have heard from me before.\n",
            "\n",
            "I'd like to get your comments on a question that has been on my mind a\n",
            "lot:  What morals/ethics apply to dreams and out-of-body incidents?\n",
            "In normal dreams, you can't control anything, so obviously\n",
            "you aren't morally responsible for your actions.  But if you can contrive\n",
            "to control the action in dreams or do an OOBE, it seems like a morality applies.\n",
            "\n",
            "Now, there seem to be 3 alternatives:\n",
            "\n",
            "1) Dreams and OOBEs are totally mental phenomena.  In this case no morality\n",
            "applies beyond what might be called 'mental hygiene', that is, not trying\n",
            "to think about anything evil, or indulgining in overly sexy or violent\n",
            "thoughts.\n",
            "\n",
            "2) Dreams and OOBEs have a reality of their own (i.e. are 'another plane')\n",
            "Evidence for this is that often dreams and OOBEs are sometimes done in\n",
            "common by more than one person.  A\n",
            "mark of objective fact is that >1 people report the same objective experience.\n",
            "In this case, the same interpersonal morality/ethics applies in dreams and\n",
            "OOBEs as does in waking life.\n",
            "\n",
            "3) Like (2), but here we assume that though the dreeam and OOBE environs have a\n",
            "real existence, a different moral/ethics apply there, and no (or maybe \n",
            "different) moral laws apply there.\n",
            "\n",
            "So... There it is.  Is one of these cases the truth, or does anyone know\n",
            "of another alternative?  respond by post or email.\n",
            "\n",
            "thanks very much\n",
            "\n",
            "*dt*\n",
            "\n",
            "========================================================\n",
            "\n",
            ".\n",
            "\n",
            "Predicted: sci.med, Actual: soc.religion.christian\n",
            "\n",
            "News: From: menon@boulder.Colorado.EDU (Ravi or Deantha Menon)\n",
            "Subject: Re: Need info on Circumcision, medical cons and pros\n",
            "Nntp-Posting-Host: beagle.colorado.edu\n",
            "Organization: University of Colorado, Boulder\n",
            "Lines: 29\n",
            "\n",
            "texx@ossi.com (\"Texx\") writes:\n",
            "\n",
            ">Scene: Navy boot camp\n",
            "\n",
            ">DI:\t\t\"Son, you smel awful! Dont you ever clean that thing?\"\n",
            ">Recruit:\t\"No Sir !\"\n",
            ">DI:\t\t\"Why the hell NOT!\"\n",
            ">Recruit:\t\"Your not sposed to touch down there?\"\n",
            ">DI:\t\t\"Why ?\"\n",
            ">Recruit:\t\"Cause thats the eye of god down there, an' your not s'posed to touch it...\"\n",
            "\n",
            ">This did not happen 40 years ago, it happened 2 years ago.\n",
            "\n",
            ">I think Americans are QUITE hung up about sex and the involved plumbing!\n",
            "\n",
            "Cute anecdote, but hardly indicative of the population.  From the responses\n",
            "I've received to that post (all from men, by the way) I get the impression\n",
            "that unless a person is willing to drop down and masturbate whenever the\n",
            "need or desire strikes, then that person is very hung up on sex.\n",
            "\n",
            "With tv programs about \"boobs\" (Seinfeld) and \"masturbation (again Seinfeld)\n",
            "and with condoms being handed out in high schools and with the teenage\n",
            "pregnancy rate and the high abortion rate here in the States, I would\n",
            "not assume that we American's are frightened of sex.  Rather we are a bit\n",
            "stupid about it.  Healthy sexuality does not require flamboyance or\n",
            "promiscuity.  It requires responsibility.\n",
            "\n",
            "\n",
            "Deantha\n",
            "\n",
            "Predicted: soc.religion.christian, Actual: sci.med\n",
            "\n",
            "News: From: tony@scotty.dccs.upenn.edu (Anthony Olejnik)\n",
            "Subject: How to dispose of old blessed palms?\n",
            "Organization: University of Pennsylvania\n",
            "Lines: 10\n",
            "\n",
            "What is the proper way to dispose of old blessed palms?\n",
            "I`ve have a bunch that I`ve been holding onto.  In addition,\n",
            "my mom has been giving me her's.  I used to give them to my\n",
            "uncle who would burn them (and leave the ashes to seep into the\n",
            "ground).  Should I do the same?  Could I just bury them?  Could\n",
            "I add them to my compost bin?\n",
            "\n",
            "Thanks in advance.\n",
            "\n",
            "--tony\n",
            "\n",
            "Predicted: sci.med, Actual: soc.religion.christian\n",
            "\n",
            "News: From: norris@athena.mit.edu (Richard A Chonak)\n",
            "Subject: Boston Church\n",
            "Organization: unus orbis orans\n",
            "Lines: 14\n",
            "\n",
            "(Dear Moderator: Would you add this to the BCC faq?)\n",
            "\n",
            "In case there are any ex-members of the \"Boston Church of Christ\"\n",
            "looking for a support organization, here's the number of \"BostonEX\" in\n",
            "Burlington, MA: 617-272-1955.\n",
            "\n",
            "--------\n",
            "\n",
            "s.r.c readers in New England may be interested in seeing a series of\n",
            "news reports about the BCC in the 6 pm nightly news on Channel 5\n",
            "(WCVB, Boston), for the next few days (starting Wed, 5/19).\n",
            "\n",
            "For viewers outside the Boston area, the same telecasts will also be\n",
            "aired on the \"New England Cable News\" channel at 8 pm.  \n",
            "\n",
            "Predicted: sci.med, Actual: soc.religion.christian\n",
            "\n"
          ]
        }
      ]
    },
    {
      "cell_type": "markdown",
      "metadata": {
        "id": "DRIRg2rufjPu"
      },
      "source": [
        "#References:  \n",
        "\n",
        "https://scikit-learn.org/stable/tutorial/text_analytics/working_with_text_data.html\n",
        "\n",
        "https://www.nltk.org/book/ch06.html\n",
        "\n",
        "search: Other online resources:\n",
        "\n",
        "https://towardsdatascience.com/setting-up-text-preprocessing-pipeline-using-scikit-learn-and-spacy-e09b9b76758f\n",
        "\n",
        "sentiment analysis scikit learn\n",
        "\n",
        "scikit learn or nltk + NLP techniques\n",
        "\n",
        "python + NLP techniques\n",
        "\n",
        "scikit learn logistic regression\n",
        "\n",
        "\n"
      ]
    }
  ]
}